{
 "cells": [
  {
   "cell_type": "code",
   "execution_count": 1,
   "id": "every-airplane",
   "metadata": {},
   "outputs": [],
   "source": [
    "import pandas as pd\n",
    "import numpy as np\n",
    "import seaborn as sns\n",
    "import matplotlib.pyplot as plt\n",
    "%matplotlib inline"
   ]
  },
  {
   "cell_type": "code",
   "execution_count": 2,
   "id": "advanced-transport",
   "metadata": {},
   "outputs": [],
   "source": [
    "import joblib\n",
    "import pickle"
   ]
  },
  {
   "cell_type": "code",
   "execution_count": 3,
   "id": "scenic-coach",
   "metadata": {},
   "outputs": [],
   "source": [
    "from xgboost import XGBClassifier\n",
    "from lightgbm import LGBMClassifier\n",
    "from catboost import CatBoostClassifier"
   ]
  },
  {
   "cell_type": "code",
   "execution_count": 4,
   "id": "interesting-consequence",
   "metadata": {},
   "outputs": [],
   "source": [
    "from sklearn.ensemble import RandomForestClassifier,GradientBoostingClassifier,VotingClassifier\n",
    "from sklearn.neighbors import KNeighborsClassifier\n",
    "from sklearn.tree import DecisionTreeClassifier\n",
    "\n",
    "\n",
    "from sklearn.model_selection import train_test_split, GridSearchCV, cross_validate, validation_curve\n",
    "\n",
    "from sklearn.metrics import r2_score,recall_score,accuracy_score,roc_curve,roc_auc_score,f1_score,\\\n",
    "                            confusion_matrix,classification_report"
   ]
  },
  {
   "cell_type": "code",
   "execution_count": 5,
   "id": "eight-pillow",
   "metadata": {},
   "outputs": [],
   "source": [
    "pd.set_option(\"display.max_columns\",None)\n",
    "pd.set_option(\"display.width\",200)\n",
    "pd.set_option(\"display.float_format\" , lambda x : \"%.4f\" %x)"
   ]
  },
  {
   "cell_type": "code",
   "execution_count": 6,
   "id": "eastern-barrel",
   "metadata": {},
   "outputs": [],
   "source": [
    "from warnings import filterwarnings\n",
    "filterwarnings(\"ignore\")"
   ]
  },
  {
   "cell_type": "code",
   "execution_count": 7,
   "id": "consecutive-seattle",
   "metadata": {},
   "outputs": [],
   "source": [
    "# max_depth ne kadar dallanma olacağı demektir\n",
    "# max_feature bölünmelerde gerçekleşecek bölünme sayısı\n",
    "# min_samples_split dallandı dallandı 2 tane kaldı bölmicek kararı kaç girdiysek ona göre vericek\n",
    "# n_estimators birbirinden bağımsız seçtiğimiz adet kadar ağaç kurucak ...."
   ]
  },
  {
   "cell_type": "code",
   "execution_count": 8,
   "id": "generic-riverside",
   "metadata": {},
   "outputs": [],
   "source": [
    "df = pickle.load(open(\"diabetes.pkl\",\"rb\"))"
   ]
  },
  {
   "cell_type": "code",
   "execution_count": 9,
   "id": "short-owner",
   "metadata": {},
   "outputs": [
    {
     "data": {
      "text/html": [
       "<div>\n",
       "<style scoped>\n",
       "    .dataframe tbody tr th:only-of-type {\n",
       "        vertical-align: middle;\n",
       "    }\n",
       "\n",
       "    .dataframe tbody tr th {\n",
       "        vertical-align: top;\n",
       "    }\n",
       "\n",
       "    .dataframe thead th {\n",
       "        text-align: right;\n",
       "    }\n",
       "</style>\n",
       "<table border=\"1\" class=\"dataframe\">\n",
       "  <thead>\n",
       "    <tr style=\"text-align: right;\">\n",
       "      <th></th>\n",
       "      <th>Pregnancies</th>\n",
       "      <th>Glucose</th>\n",
       "      <th>BloodPressure</th>\n",
       "      <th>SkinThickness</th>\n",
       "      <th>Insulin</th>\n",
       "      <th>BMI</th>\n",
       "      <th>DiabetesPedigreeFunction</th>\n",
       "      <th>Age</th>\n",
       "      <th>Outcome</th>\n",
       "      <th>NEW_INSULIN_1</th>\n",
       "      <th>NEW_AGE_CAT_1</th>\n",
       "      <th>NEW_BMI_AGE_1</th>\n",
       "      <th>NEW_BMI_AGE_2</th>\n",
       "      <th>NEW_BMI_AGE_3</th>\n",
       "      <th>NEW_BMI_AGE_4</th>\n",
       "      <th>NEW_BMI_AGE_5</th>\n",
       "      <th>NEW_BMI_AGE_6</th>\n",
       "      <th>NEW_AGE_GLUCOSE_1</th>\n",
       "      <th>NEW_AGE_GLUCOSE_2</th>\n",
       "      <th>NEW_AGE_GLUCOSE_3</th>\n",
       "      <th>NEW_BMI_1</th>\n",
       "      <th>NEW_BMI_2</th>\n",
       "      <th>NEW_BMI_3</th>\n",
       "      <th>NEW_GLUCOSE_1</th>\n",
       "    </tr>\n",
       "  </thead>\n",
       "  <tbody>\n",
       "    <tr>\n",
       "      <th>0</th>\n",
       "      <td>0.6471</td>\n",
       "      <td>0.8646</td>\n",
       "      <td>-0.0308</td>\n",
       "      <td>0.8143</td>\n",
       "      <td>0.6269</td>\n",
       "      <td>0.1840</td>\n",
       "      <td>0.5889</td>\n",
       "      <td>1.4457</td>\n",
       "      <td>1</td>\n",
       "      <td>0</td>\n",
       "      <td>1</td>\n",
       "      <td>0</td>\n",
       "      <td>0</td>\n",
       "      <td>1</td>\n",
       "      <td>0</td>\n",
       "      <td>0</td>\n",
       "      <td>0</td>\n",
       "      <td>0</td>\n",
       "      <td>0</td>\n",
       "      <td>1</td>\n",
       "      <td>1</td>\n",
       "      <td>0</td>\n",
       "      <td>0</td>\n",
       "      <td>1</td>\n",
       "    </tr>\n",
       "    <tr>\n",
       "      <th>1</th>\n",
       "      <td>-0.8490</td>\n",
       "      <td>-1.2047</td>\n",
       "      <td>-0.5437</td>\n",
       "      <td>0.0201</td>\n",
       "      <td>-0.5266</td>\n",
       "      <td>-0.8657</td>\n",
       "      <td>-0.3781</td>\n",
       "      <td>-0.1893</td>\n",
       "      <td>0</td>\n",
       "      <td>1</td>\n",
       "      <td>0</td>\n",
       "      <td>0</td>\n",
       "      <td>0</td>\n",
       "      <td>0</td>\n",
       "      <td>1</td>\n",
       "      <td>0</td>\n",
       "      <td>0</td>\n",
       "      <td>0</td>\n",
       "      <td>0</td>\n",
       "      <td>0</td>\n",
       "      <td>0</td>\n",
       "      <td>1</td>\n",
       "      <td>0</td>\n",
       "      <td>0</td>\n",
       "    </tr>\n",
       "    <tr>\n",
       "      <th>2</th>\n",
       "      <td>1.2456</td>\n",
       "      <td>2.0143</td>\n",
       "      <td>-0.7146</td>\n",
       "      <td>0.4172</td>\n",
       "      <td>0.6269</td>\n",
       "      <td>-1.3606</td>\n",
       "      <td>0.7466</td>\n",
       "      <td>-0.1033</td>\n",
       "      <td>1</td>\n",
       "      <td>0</td>\n",
       "      <td>0</td>\n",
       "      <td>0</td>\n",
       "      <td>0</td>\n",
       "      <td>0</td>\n",
       "      <td>0</td>\n",
       "      <td>0</td>\n",
       "      <td>0</td>\n",
       "      <td>0</td>\n",
       "      <td>1</td>\n",
       "      <td>0</td>\n",
       "      <td>0</td>\n",
       "      <td>0</td>\n",
       "      <td>0</td>\n",
       "      <td>1</td>\n",
       "    </tr>\n",
       "    <tr>\n",
       "      <th>3</th>\n",
       "      <td>-0.8490</td>\n",
       "      <td>-1.0733</td>\n",
       "      <td>-0.5437</td>\n",
       "      <td>-0.7742</td>\n",
       "      <td>-0.6729</td>\n",
       "      <td>-0.6407</td>\n",
       "      <td>-1.0228</td>\n",
       "      <td>-1.0498</td>\n",
       "      <td>0</td>\n",
       "      <td>1</td>\n",
       "      <td>0</td>\n",
       "      <td>0</td>\n",
       "      <td>0</td>\n",
       "      <td>0</td>\n",
       "      <td>1</td>\n",
       "      <td>0</td>\n",
       "      <td>0</td>\n",
       "      <td>0</td>\n",
       "      <td>0</td>\n",
       "      <td>0</td>\n",
       "      <td>0</td>\n",
       "      <td>1</td>\n",
       "      <td>0</td>\n",
       "      <td>0</td>\n",
       "    </tr>\n",
       "    <tr>\n",
       "      <th>4</th>\n",
       "      <td>-1.1482</td>\n",
       "      <td>0.5033</td>\n",
       "      <td>-2.7661</td>\n",
       "      <td>0.8143</td>\n",
       "      <td>0.6011</td>\n",
       "      <td>1.6087</td>\n",
       "      <td>2.5966</td>\n",
       "      <td>-0.0172</td>\n",
       "      <td>1</td>\n",
       "      <td>0</td>\n",
       "      <td>0</td>\n",
       "      <td>0</td>\n",
       "      <td>1</td>\n",
       "      <td>0</td>\n",
       "      <td>0</td>\n",
       "      <td>0</td>\n",
       "      <td>0</td>\n",
       "      <td>0</td>\n",
       "      <td>0</td>\n",
       "      <td>0</td>\n",
       "      <td>1</td>\n",
       "      <td>0</td>\n",
       "      <td>0</td>\n",
       "      <td>0</td>\n",
       "    </tr>\n",
       "  </tbody>\n",
       "</table>\n",
       "</div>"
      ],
      "text/plain": [
       "   Pregnancies  Glucose  BloodPressure  SkinThickness  Insulin     BMI  DiabetesPedigreeFunction     Age  Outcome  NEW_INSULIN_1  NEW_AGE_CAT_1  NEW_BMI_AGE_1  NEW_BMI_AGE_2  NEW_BMI_AGE_3  \\\n",
       "0       0.6471   0.8646        -0.0308         0.8143   0.6269  0.1840                    0.5889  1.4457        1              0              1              0              0              1   \n",
       "1      -0.8490  -1.2047        -0.5437         0.0201  -0.5266 -0.8657                   -0.3781 -0.1893        0              1              0              0              0              0   \n",
       "2       1.2456   2.0143        -0.7146         0.4172   0.6269 -1.3606                    0.7466 -0.1033        1              0              0              0              0              0   \n",
       "3      -0.8490  -1.0733        -0.5437        -0.7742  -0.6729 -0.6407                   -1.0228 -1.0498        0              1              0              0              0              0   \n",
       "4      -1.1482   0.5033        -2.7661         0.8143   0.6011  1.6087                    2.5966 -0.0172        1              0              0              0              1              0   \n",
       "\n",
       "   NEW_BMI_AGE_4  NEW_BMI_AGE_5  NEW_BMI_AGE_6  NEW_AGE_GLUCOSE_1  NEW_AGE_GLUCOSE_2  NEW_AGE_GLUCOSE_3  NEW_BMI_1  NEW_BMI_2  NEW_BMI_3  NEW_GLUCOSE_1  \n",
       "0              0              0              0                  0                  0                  1          1          0          0              1  \n",
       "1              1              0              0                  0                  0                  0          0          1          0              0  \n",
       "2              0              0              0                  0                  1                  0          0          0          0              1  \n",
       "3              1              0              0                  0                  0                  0          0          1          0              0  \n",
       "4              0              0              0                  0                  0                  0          1          0          0              0  "
      ]
     },
     "execution_count": 9,
     "metadata": {},
     "output_type": "execute_result"
    }
   ],
   "source": [
    "df.head()"
   ]
  },
  {
   "cell_type": "code",
   "execution_count": 10,
   "id": "advanced-nurse",
   "metadata": {},
   "outputs": [],
   "source": [
    "X = df.drop(\"Outcome\", axis = 1)\n",
    "y = df[\"Outcome\"]"
   ]
  },
  {
   "cell_type": "code",
   "execution_count": 11,
   "id": "nearby-church",
   "metadata": {},
   "outputs": [],
   "source": [
    "rf_params = {\"max_depth\" : [5,8,15,None],\n",
    "             \"max_features\" : [5,7,\"auto\"],\n",
    "             \"min_samples_split\" : [8,15,20],\n",
    "             \"n_estimators\" : [200,500,1000]}\n",
    "\n",
    "knn_params = {\"n_neighbors\" :range(2,50)}\n",
    "\n",
    "cart_params = {\"max_depth\" : range(1,20),\n",
    "               \"min_samples_split\" : range(2,30)}\n",
    "\n",
    "gbm_params = {\"learning_rate\" : [0.01, 0.1],\n",
    "              \"max_depth\" : [3,8],\n",
    "              \"n_estimators\" :[500, 100],\n",
    "              \"subsample\" : [1, 0.5, 0.7]}\n",
    "\n",
    "xgboost_params = {\"learning_rate\" : [0.01 ,0.1 ,0.2],\n",
    "                  \"max_depth\" : [5, 8, 12 ,20],\n",
    "                  \"n_estimators\" : [100,200,300,400],\n",
    "                  \"colsample_bytree\" : [0.5, 0.8, 1]}\n",
    "\n",
    "light_params = {\"learning_rate\" : [0.01, 0.1],\n",
    "                \"n_estimators\" : [300,500,1500],\n",
    "                \"colsample_bytree\" :[.5, .7 ,1]}\n",
    "\n",
    "catboost_params = {\"iterations\": [200, 500],\n",
    "                   \"learning_rate\": [0.01, 0.1],\n",
    "                   \"depth\": [3, 6]}\n",
    "\n",
    "\n",
    "\n",
    "\n",
    "classifiers = [ (\"RF\",RandomForestClassifier(),rf_params ),\n",
    "                (\"KNN\", KNeighborsClassifier(),knn_params), \n",
    "                (\"CART\", DecisionTreeClassifier(),cart_params),\n",
    "                (\"GBM\",GradientBoostingClassifier(),gbm_params),\n",
    "                (\"XGBoost\",XGBClassifier(),xgboost_params),\n",
    "                (\"LightGBM\",LGBMClassifier(),light_params),\n",
    "                (\"CatBoost\",CatBoostClassifier(),catboost_params)  ]"
   ]
  },
  {
   "cell_type": "code",
   "execution_count": 12,
   "id": "separate-august",
   "metadata": {},
   "outputs": [],
   "source": [
    "def base_model(classifiers, X, y , cv = 3):\n",
    "    \n",
    "    data = pd.DataFrame()\n",
    "    index = 0\n",
    "    \n",
    "    for name,classifier,params in classifiers:\n",
    "        \n",
    "        cv_results = cross_validate(estimator=classifier,\n",
    "                                    X = X,\n",
    "                                    y = y ,\n",
    "                                    cv = cv,\n",
    "                                    n_jobs= -1,\n",
    "                                    verbose=0,\n",
    "                                    scoring=[\"roc_auc\",\"accuracy\"])\n",
    "        \n",
    "        roc_auc_score = cv_results[\"test_roc_auc\"].mean()\n",
    "        accuracy_score = cv_results[\"test_accuracy\"].mean()\n",
    "        fit_time = cv_results[\"fit_time\"].mean()\n",
    "        score_time = cv_results[\"score_time\"].mean()\n",
    "        \n",
    "        data.loc[index , \"NAME\"] = name.upper()\n",
    "        data.loc[index, \"ROC_AUC_SCORE\"] = roc_auc_score\n",
    "        data.loc[index, \"ACCURACY_SCORE\"] = accuracy_score\n",
    "        data.loc[index, \"FIT_TIME\"] = fit_time\n",
    "        data.loc[index, \"SCORE_TIME\"] = score_time\n",
    "        index+=1\n",
    "        \n",
    "    data = data.set_index(\"NAME\")\n",
    "    data = data.sort_values(by = \"ROC_AUC_SCORE\", ascending = False)\n",
    "\n",
    "    return data"
   ]
  },
  {
   "cell_type": "code",
   "execution_count": 13,
   "id": "accurate-interstate",
   "metadata": {},
   "outputs": [
    {
     "data": {
      "text/html": [
       "<div>\n",
       "<style scoped>\n",
       "    .dataframe tbody tr th:only-of-type {\n",
       "        vertical-align: middle;\n",
       "    }\n",
       "\n",
       "    .dataframe tbody tr th {\n",
       "        vertical-align: top;\n",
       "    }\n",
       "\n",
       "    .dataframe thead th {\n",
       "        text-align: right;\n",
       "    }\n",
       "</style>\n",
       "<table border=\"1\" class=\"dataframe\">\n",
       "  <thead>\n",
       "    <tr style=\"text-align: right;\">\n",
       "      <th></th>\n",
       "      <th>ROC_AUC_SCORE</th>\n",
       "      <th>ACCURACY_SCORE</th>\n",
       "      <th>FIT_TIME</th>\n",
       "      <th>SCORE_TIME</th>\n",
       "    </tr>\n",
       "    <tr>\n",
       "      <th>NAME</th>\n",
       "      <th></th>\n",
       "      <th></th>\n",
       "      <th></th>\n",
       "      <th></th>\n",
       "    </tr>\n",
       "  </thead>\n",
       "  <tbody>\n",
       "    <tr>\n",
       "      <th>LIGHTGBM</th>\n",
       "      <td>0.9505</td>\n",
       "      <td>0.8854</td>\n",
       "      <td>0.0474</td>\n",
       "      <td>0.0076</td>\n",
       "    </tr>\n",
       "    <tr>\n",
       "      <th>GBM</th>\n",
       "      <td>0.9488</td>\n",
       "      <td>0.8906</td>\n",
       "      <td>0.0862</td>\n",
       "      <td>0.0036</td>\n",
       "    </tr>\n",
       "    <tr>\n",
       "      <th>XGBOOST</th>\n",
       "      <td>0.9471</td>\n",
       "      <td>0.8789</td>\n",
       "      <td>0.1829</td>\n",
       "      <td>0.0039</td>\n",
       "    </tr>\n",
       "    <tr>\n",
       "      <th>CATBOOST</th>\n",
       "      <td>0.9465</td>\n",
       "      <td>0.8802</td>\n",
       "      <td>1.6765</td>\n",
       "      <td>0.0054</td>\n",
       "    </tr>\n",
       "    <tr>\n",
       "      <th>RF</th>\n",
       "      <td>0.9403</td>\n",
       "      <td>0.8815</td>\n",
       "      <td>0.0983</td>\n",
       "      <td>0.0153</td>\n",
       "    </tr>\n",
       "    <tr>\n",
       "      <th>KNN</th>\n",
       "      <td>0.8805</td>\n",
       "      <td>0.8203</td>\n",
       "      <td>0.0024</td>\n",
       "      <td>0.0126</td>\n",
       "    </tr>\n",
       "    <tr>\n",
       "      <th>CART</th>\n",
       "      <td>0.8429</td>\n",
       "      <td>0.8620</td>\n",
       "      <td>0.0033</td>\n",
       "      <td>0.0027</td>\n",
       "    </tr>\n",
       "  </tbody>\n",
       "</table>\n",
       "</div>"
      ],
      "text/plain": [
       "          ROC_AUC_SCORE  ACCURACY_SCORE  FIT_TIME  SCORE_TIME\n",
       "NAME                                                         \n",
       "LIGHTGBM         0.9505          0.8854    0.0474      0.0076\n",
       "GBM              0.9488          0.8906    0.0862      0.0036\n",
       "XGBOOST          0.9471          0.8789    0.1829      0.0039\n",
       "CATBOOST         0.9465          0.8802    1.6765      0.0054\n",
       "RF               0.9403          0.8815    0.0983      0.0153\n",
       "KNN              0.8805          0.8203    0.0024      0.0126\n",
       "CART             0.8429          0.8620    0.0033      0.0027"
      ]
     },
     "execution_count": 13,
     "metadata": {},
     "output_type": "execute_result"
    }
   ],
   "source": [
    "base_model(classifiers, X, y)"
   ]
  },
  {
   "cell_type": "code",
   "execution_count": 14,
   "id": "accessible-marks",
   "metadata": {},
   "outputs": [],
   "source": [
    "######################################################\n",
    "# Automated Hyperparameter Optimization\n",
    "######################################################"
   ]
  },
  {
   "cell_type": "markdown",
   "id": "indie-oliver",
   "metadata": {},
   "source": [
    "**Here we chose 3 models with high value.**"
   ]
  },
  {
   "cell_type": "code",
   "execution_count": 15,
   "id": "novel-cotton",
   "metadata": {},
   "outputs": [],
   "source": [
    "classifiers = [ #(\"RF\",RandomForestClassifier(),rf_params ),\n",
    "                #(\"KNN\", KNeighborsClassifier(),knn_params), \n",
    "                #(\"CART\", DecisionTreeClassifier(),cart_params),\n",
    "                (\"GBM\",GradientBoostingClassifier(),gbm_params),\n",
    "                (\"XGBoost\",XGBClassifier(eval_metric='mlogloss'),xgboost_params),\n",
    "                (\"LightGBM\",LGBMClassifier(),light_params),\n",
    "                #(\"CatBoost\",CatBoostClassifier(),catboost_params)  \n",
    "               ]"
   ]
  },
  {
   "cell_type": "code",
   "execution_count": 16,
   "id": "resistant-flesh",
   "metadata": {},
   "outputs": [],
   "source": [
    "def hyperparameter_optimization(classifiers , X ,y , cv = 3):\n",
    "    \n",
    "    models_best = {}\n",
    "    data = pd.DataFrame()\n",
    "    index = 0\n",
    "    \n",
    "    for name, classifier, params in classifiers:\n",
    "        \n",
    "        cv_results = cross_validate(estimator=classifier,\n",
    "                                    X = X,\n",
    "                                    y = y,\n",
    "                                    cv = cv,\n",
    "                                    n_jobs= -1 ,\n",
    "                                    scoring = [\"roc_auc\",\"accuracy\"],\n",
    "                                    verbose=0)\n",
    "        \n",
    "        roc_auc_score = round(cv_results[\"test_roc_auc\"].mean(),4)\n",
    "        accuracy_score = round(cv_results[\"test_accuracy\"].mean(),4)\n",
    "        \n",
    "        print(\"\".center(50,\"#\"),end = \"\\n\\n\")\n",
    "        print(f\"Before GridSearchCV For {type(classifier).__name__.upper()}\",end = \"\\n\\n\")\n",
    "        print(f\"ROC AUC Score : {roc_auc_score}\\nAccuracy Score : {accuracy_score}\",end = \"\\n\\n\")\n",
    "        \n",
    "        best_grid = GridSearchCV(estimator= classifier, \n",
    "                                 param_grid=params ,\n",
    "                                 n_jobs=-1,\n",
    "                                 verbose=0,\n",
    "                                 cv = cv).fit(X,y)\n",
    "        \n",
    "        print(f\"Best Params For {type(classifier).__name__.upper()}:\\n\\n{best_grid.best_params_}\",end = \"\\n\\n\")\n",
    "        \n",
    "        final_classifier = classifier.set_params(**best_grid.best_params_)\n",
    "        \n",
    "        final_cv_results = cross_validate(estimator=final_classifier,\n",
    "                                          X = X,\n",
    "                                          y = y,\n",
    "                                          cv = cv,\n",
    "                                          n_jobs= -1 ,\n",
    "                                          scoring = [\"roc_auc\",\"accuracy\"],\n",
    "                                          verbose=0)\n",
    "        \n",
    "        final_roc_auc_score = round(final_cv_results[\"test_roc_auc\"].mean(),4)\n",
    "        final_accuracy_score = round(final_cv_results[\"test_accuracy\"].mean(),4)\n",
    "        \n",
    "        print(f\"After GridSearchCV For {type(final_classifier).__name__.upper()}\",end = \"\\n\\n\")\n",
    "        print(f\"ROC AUC Score : {final_roc_auc_score}\\nAccuracy Score : {final_accuracy_score}\",end = \"\\n\\n\")\n",
    "        \n",
    "        \n",
    "        data.loc[index, \"NAME\"] = name.upper()\n",
    "        data.loc[index, \"BEFORE_ROC_AUC\"] = roc_auc_score\n",
    "        data.loc[index, \"BEFORE_ACCURACY\"] = accuracy_score\n",
    "        data.loc[index, \"AFTER_ROC_AUC\"] = final_roc_auc_score\n",
    "        data.loc[index, \"AFTER_ACCURACY\"] = final_accuracy_score\n",
    "        index+=1\n",
    "        \n",
    "        models_best[name] = final_classifier\n",
    "        \n",
    "    data = data.set_index(\"NAME\")\n",
    "    data = data.sort_values(by = \"AFTER_ROC_AUC\", ascending = False)\n",
    "    \n",
    "    return data , models_best"
   ]
  },
  {
   "cell_type": "code",
   "execution_count": 17,
   "id": "sustainable-pride",
   "metadata": {},
   "outputs": [
    {
     "name": "stdout",
     "output_type": "stream",
     "text": [
      "##################################################\n",
      "\n",
      "Before GridSearchCV For GRADIENTBOOSTINGCLASSIFIER\n",
      "\n",
      "ROC AUC Score : 0.9587\n",
      "Accuracy Score : 0.8803\n",
      "\n",
      "Best Params For GRADIENTBOOSTINGCLASSIFIER:\n",
      "\n",
      "{'learning_rate': 0.1, 'max_depth': 8, 'n_estimators': 500, 'subsample': 0.7}\n",
      "\n",
      "After GridSearchCV For GRADIENTBOOSTINGCLASSIFIER\n",
      "\n",
      "ROC AUC Score : 0.9504\n",
      "Accuracy Score : 0.8881\n",
      "\n",
      "##################################################\n",
      "\n",
      "Before GridSearchCV For XGBCLASSIFIER\n",
      "\n",
      "ROC AUC Score : 0.95\n",
      "Accuracy Score : 0.8816\n",
      "\n",
      "Best Params For XGBCLASSIFIER:\n",
      "\n",
      "{'colsample_bytree': 0.5, 'learning_rate': 0.1, 'max_depth': 20, 'n_estimators': 200}\n",
      "\n",
      "After GridSearchCV For XGBCLASSIFIER\n",
      "\n",
      "ROC AUC Score : 0.9555\n",
      "Accuracy Score : 0.8959\n",
      "\n",
      "##################################################\n",
      "\n",
      "Before GridSearchCV For LGBMCLASSIFIER\n",
      "\n",
      "ROC AUC Score : 0.953\n",
      "Accuracy Score : 0.8855\n",
      "\n",
      "Best Params For LGBMCLASSIFIER:\n",
      "\n",
      "{'colsample_bytree': 1, 'learning_rate': 0.01, 'n_estimators': 300}\n",
      "\n",
      "After GridSearchCV For LGBMCLASSIFIER\n",
      "\n",
      "ROC AUC Score : 0.9575\n",
      "Accuracy Score : 0.892\n",
      "\n"
     ]
    }
   ],
   "source": [
    "data , models_best = hyperparameter_optimization(classifiers, X , y ,cv = 10)"
   ]
  },
  {
   "cell_type": "code",
   "execution_count": 18,
   "id": "burning-updating",
   "metadata": {},
   "outputs": [
    {
     "data": {
      "text/html": [
       "<div>\n",
       "<style scoped>\n",
       "    .dataframe tbody tr th:only-of-type {\n",
       "        vertical-align: middle;\n",
       "    }\n",
       "\n",
       "    .dataframe tbody tr th {\n",
       "        vertical-align: top;\n",
       "    }\n",
       "\n",
       "    .dataframe thead th {\n",
       "        text-align: right;\n",
       "    }\n",
       "</style>\n",
       "<table border=\"1\" class=\"dataframe\">\n",
       "  <thead>\n",
       "    <tr style=\"text-align: right;\">\n",
       "      <th></th>\n",
       "      <th>BEFORE_ROC_AUC</th>\n",
       "      <th>BEFORE_ACCURACY</th>\n",
       "      <th>AFTER_ROC_AUC</th>\n",
       "      <th>AFTER_ACCURACY</th>\n",
       "    </tr>\n",
       "    <tr>\n",
       "      <th>NAME</th>\n",
       "      <th></th>\n",
       "      <th></th>\n",
       "      <th></th>\n",
       "      <th></th>\n",
       "    </tr>\n",
       "  </thead>\n",
       "  <tbody>\n",
       "    <tr>\n",
       "      <th>LIGHTGBM</th>\n",
       "      <td>0.9530</td>\n",
       "      <td>0.8855</td>\n",
       "      <td>0.9575</td>\n",
       "      <td>0.8920</td>\n",
       "    </tr>\n",
       "    <tr>\n",
       "      <th>XGBOOST</th>\n",
       "      <td>0.9500</td>\n",
       "      <td>0.8816</td>\n",
       "      <td>0.9555</td>\n",
       "      <td>0.8959</td>\n",
       "    </tr>\n",
       "    <tr>\n",
       "      <th>GBM</th>\n",
       "      <td>0.9587</td>\n",
       "      <td>0.8803</td>\n",
       "      <td>0.9504</td>\n",
       "      <td>0.8881</td>\n",
       "    </tr>\n",
       "  </tbody>\n",
       "</table>\n",
       "</div>"
      ],
      "text/plain": [
       "          BEFORE_ROC_AUC  BEFORE_ACCURACY  AFTER_ROC_AUC  AFTER_ACCURACY\n",
       "NAME                                                                    \n",
       "LIGHTGBM          0.9530           0.8855         0.9575          0.8920\n",
       "XGBOOST           0.9500           0.8816         0.9555          0.8959\n",
       "GBM               0.9587           0.8803         0.9504          0.8881"
      ]
     },
     "execution_count": 18,
     "metadata": {},
     "output_type": "execute_result"
    }
   ],
   "source": [
    "data"
   ]
  },
  {
   "cell_type": "code",
   "execution_count": 19,
   "id": "celtic-sleeve",
   "metadata": {},
   "outputs": [],
   "source": [
    "for model in models_best.keys():\n",
    "    pd.to_pickle(models_best[model], open(model+\"_diabetes.pkl\",\"wb\"))"
   ]
  },
  {
   "cell_type": "code",
   "execution_count": 20,
   "id": "caring-calendar",
   "metadata": {},
   "outputs": [],
   "source": [
    "######################################################\n",
    "# Stacking & Ensemble Learning\n",
    "######################################################"
   ]
  },
  {
   "cell_type": "code",
   "execution_count": 21,
   "id": "approximate-basin",
   "metadata": {},
   "outputs": [],
   "source": [
    "def voting_classifiers(models_best, X, y, cv = 5):\n",
    "\n",
    "    estimators = [(name,models_best[name]) for name in models_best ]\n",
    "\n",
    "    voting_clf = VotingClassifier(estimators=estimators,voting=\"soft\",n_jobs=-1,verbose=0).fit(X,y)\n",
    "    \n",
    "    cv_results = cross_validate(estimator=voting_clf,\n",
    "                                X = X,\n",
    "                                y = y ,\n",
    "                                cv = cv ,\n",
    "                                n_jobs=-1,\n",
    "                                verbose=0,\n",
    "                                scoring=[\"roc_auc\",\"accuracy\"])\n",
    "    \n",
    "    data = pd.DataFrame()\n",
    "    data[\"NAME\"] = [\"VotingClassifier\"]\n",
    "    data[\"ROC_AUC\"] = cv_results[\"test_roc_auc\"].mean()\n",
    "    data[\"ACCURACY\"] = cv_results[\"test_accuracy\"].mean()\n",
    "    data[\"FIT_TIME\"] = cv_results[\"fit_time\"].mean()\n",
    "    data[\"SCORE_TIME\"] = cv_results[\"score_time\"].mean()\n",
    "    \n",
    "    data = data.set_index(\"NAME\")\n",
    "    \n",
    "    return data, voting_clf"
   ]
  },
  {
   "cell_type": "code",
   "execution_count": 22,
   "id": "motivated-database",
   "metadata": {},
   "outputs": [],
   "source": [
    "data_voting, voting_clf = voting_classifiers(models_best, X, y, cv = 10)"
   ]
  },
  {
   "cell_type": "code",
   "execution_count": 23,
   "id": "brilliant-federal",
   "metadata": {},
   "outputs": [
    {
     "data": {
      "text/html": [
       "<div>\n",
       "<style scoped>\n",
       "    .dataframe tbody tr th:only-of-type {\n",
       "        vertical-align: middle;\n",
       "    }\n",
       "\n",
       "    .dataframe tbody tr th {\n",
       "        vertical-align: top;\n",
       "    }\n",
       "\n",
       "    .dataframe thead th {\n",
       "        text-align: right;\n",
       "    }\n",
       "</style>\n",
       "<table border=\"1\" class=\"dataframe\">\n",
       "  <thead>\n",
       "    <tr style=\"text-align: right;\">\n",
       "      <th></th>\n",
       "      <th>ROC_AUC</th>\n",
       "      <th>ACCURACY</th>\n",
       "      <th>FIT_TIME</th>\n",
       "      <th>SCORE_TIME</th>\n",
       "    </tr>\n",
       "    <tr>\n",
       "      <th>NAME</th>\n",
       "      <th></th>\n",
       "      <th></th>\n",
       "      <th></th>\n",
       "      <th></th>\n",
       "    </tr>\n",
       "  </thead>\n",
       "  <tbody>\n",
       "    <tr>\n",
       "      <th>VotingClassifier</th>\n",
       "      <td>0.9593</td>\n",
       "      <td>0.8907</td>\n",
       "      <td>3.9695</td>\n",
       "      <td>0.0239</td>\n",
       "    </tr>\n",
       "  </tbody>\n",
       "</table>\n",
       "</div>"
      ],
      "text/plain": [
       "                  ROC_AUC  ACCURACY  FIT_TIME  SCORE_TIME\n",
       "NAME                                                     \n",
       "VotingClassifier   0.9593    0.8907    3.9695      0.0239"
      ]
     },
     "execution_count": 23,
     "metadata": {},
     "output_type": "execute_result"
    }
   ],
   "source": [
    "data_voting"
   ]
  },
  {
   "cell_type": "code",
   "execution_count": 24,
   "id": "prostate-passport",
   "metadata": {},
   "outputs": [
    {
     "data": {
      "text/html": [
       "<div>\n",
       "<style scoped>\n",
       "    .dataframe tbody tr th:only-of-type {\n",
       "        vertical-align: middle;\n",
       "    }\n",
       "\n",
       "    .dataframe tbody tr th {\n",
       "        vertical-align: top;\n",
       "    }\n",
       "\n",
       "    .dataframe thead th {\n",
       "        text-align: right;\n",
       "    }\n",
       "</style>\n",
       "<table border=\"1\" class=\"dataframe\">\n",
       "  <thead>\n",
       "    <tr style=\"text-align: right;\">\n",
       "      <th></th>\n",
       "      <th>BEFORE_ROC_AUC</th>\n",
       "      <th>BEFORE_ACCURACY</th>\n",
       "      <th>AFTER_ROC_AUC</th>\n",
       "      <th>AFTER_ACCURACY</th>\n",
       "    </tr>\n",
       "    <tr>\n",
       "      <th>NAME</th>\n",
       "      <th></th>\n",
       "      <th></th>\n",
       "      <th></th>\n",
       "      <th></th>\n",
       "    </tr>\n",
       "  </thead>\n",
       "  <tbody>\n",
       "    <tr>\n",
       "      <th>LIGHTGBM</th>\n",
       "      <td>0.9530</td>\n",
       "      <td>0.8855</td>\n",
       "      <td>0.9575</td>\n",
       "      <td>0.8920</td>\n",
       "    </tr>\n",
       "    <tr>\n",
       "      <th>XGBOOST</th>\n",
       "      <td>0.9500</td>\n",
       "      <td>0.8816</td>\n",
       "      <td>0.9555</td>\n",
       "      <td>0.8959</td>\n",
       "    </tr>\n",
       "    <tr>\n",
       "      <th>GBM</th>\n",
       "      <td>0.9587</td>\n",
       "      <td>0.8803</td>\n",
       "      <td>0.9504</td>\n",
       "      <td>0.8881</td>\n",
       "    </tr>\n",
       "  </tbody>\n",
       "</table>\n",
       "</div>"
      ],
      "text/plain": [
       "          BEFORE_ROC_AUC  BEFORE_ACCURACY  AFTER_ROC_AUC  AFTER_ACCURACY\n",
       "NAME                                                                    \n",
       "LIGHTGBM          0.9530           0.8855         0.9575          0.8920\n",
       "XGBOOST           0.9500           0.8816         0.9555          0.8959\n",
       "GBM               0.9587           0.8803         0.9504          0.8881"
      ]
     },
     "execution_count": 24,
     "metadata": {},
     "output_type": "execute_result"
    }
   ],
   "source": [
    "data"
   ]
  },
  {
   "cell_type": "code",
   "execution_count": 25,
   "id": "durable-dealing",
   "metadata": {},
   "outputs": [],
   "source": [
    "################################################\n",
    "# Feature Importance\n",
    "################################################"
   ]
  },
  {
   "cell_type": "code",
   "execution_count": 26,
   "id": "residential-sewing",
   "metadata": {},
   "outputs": [
    {
     "data": {
      "text/plain": [
       "XGBClassifier(base_score=0.5, booster='gbtree', colsample_bylevel=1,\n",
       "              colsample_bynode=1, colsample_bytree=0.5, eval_metric='mlogloss',\n",
       "              gamma=0, gpu_id=-1, importance_type='gain',\n",
       "              interaction_constraints='', learning_rate=0.1, max_delta_step=0,\n",
       "              max_depth=20, min_child_weight=1, missing=nan,\n",
       "              monotone_constraints='()', n_estimators=200, n_jobs=8,\n",
       "              num_parallel_tree=1, random_state=0, reg_alpha=0, reg_lambda=1,\n",
       "              scale_pos_weight=1, subsample=1, tree_method='exact',\n",
       "              validate_parameters=1, verbosity=None)"
      ]
     },
     "execution_count": 26,
     "metadata": {},
     "output_type": "execute_result"
    }
   ],
   "source": [
    "final_model = models_best[\"XGBoost\"].fit(X,y)\n",
    "final_model"
   ]
  },
  {
   "cell_type": "code",
   "execution_count": 27,
   "id": "basic-tanzania",
   "metadata": {},
   "outputs": [
    {
     "data": {
      "text/plain": [
       "(23, 23)"
      ]
     },
     "execution_count": 27,
     "metadata": {},
     "output_type": "execute_result"
    }
   ],
   "source": [
    "len(final_model.feature_importances_),len(X.columns)"
   ]
  },
  {
   "cell_type": "code",
   "execution_count": 28,
   "id": "structured-albert",
   "metadata": {},
   "outputs": [],
   "source": [
    "def plot_importance(model , feature_names, num = 10, save = False):\n",
    "    \n",
    "    feature_imp = pd.DataFrame({\"Value\" : model.feature_importances_,\n",
    "                                \"Feature\": feature_names.columns})\n",
    "    plt.figure(figsize = (10,7))\n",
    "    sns.set(font_scale = 1)\n",
    "    \n",
    "    sns.barplot(x = \"Value\", y = \"Feature\", data = feature_imp.sort_values(by = \"Value\", \n",
    "                                                                           ascending = False)[0:num])\n",
    "    \n",
    "    plt.title(\"Feature\")    \n",
    "    plt.tight_layout()\n",
    "    plt.show()\n",
    "    \n",
    "    if save :\n",
    "        plt.savefig(\"new_importances.png\")"
   ]
  },
  {
   "cell_type": "code",
   "execution_count": 29,
   "id": "scientific-dancing",
   "metadata": {},
   "outputs": [
    {
     "data": {
      "image/png": "[encoded data removed]",
      "text/plain": [
       "<Figure size 720x504 with 1 Axes>"
      ]
     },
     "metadata": {
      "needs_background": "light"
     },
     "output_type": "display_data"
    },
    {
     "data": {
      "text/plain": [
       "<Figure size 432x288 with 0 Axes>"
      ]
     },
     "metadata": {},
     "output_type": "display_data"
    }
   ],
   "source": [
    "plot_importance(final_model, X , save = True)"
   ]
  },
  {
   "cell_type": "code",
   "execution_count": 30,
   "id": "modular-reporter",
   "metadata": {},
   "outputs": [],
   "source": [
    "################################################\n",
    "# Analyzing Model Complexity with Learning Curves (BONUS)\n",
    "################################################"
   ]
  },
  {
   "cell_type": "code",
   "execution_count": 40,
   "id": "prime-portable",
   "metadata": {},
   "outputs": [],
   "source": [
    "xgboost_params = {\"learning_rate\" : [0.01 ,0.1 ,0.2],\n",
    "                  \"max_depth\" : [5, 8, 12 ,20],\n",
    "                  \"n_estimators\" : [100,200,300,400],\n",
    "                  \"colsample_bytree\" : [0.5, 0.8, 1]}"
   ]
  },
  {
   "cell_type": "code",
   "execution_count": 33,
   "id": "dedicated-thanksgiving",
   "metadata": {},
   "outputs": [],
   "source": [
    "def val_curve_params(models, X, y, param_name, param_range, cv = 10, scoring = \"roc_auc\"):\n",
    "\n",
    "    train_scores, test_scores =validation_curve(estimator=final_model,\n",
    "                                                X= X, \n",
    "                                                y = y,\n",
    "                                                param_name = param_name ,\n",
    "                                                param_range= param_range,\n",
    "                                                n_jobs = -1, \n",
    "                                                verbose =0,\n",
    "                                                cv = cv,\n",
    "                                                scoring = scoring)\n",
    "    \n",
    "    mean_train_scores = np.mean(train_scores ,axis = 1)\n",
    "    mean_test_scores = np.mean(test_scores, axis = 1)\n",
    "    \n",
    "    plt.plot(param_range, mean_train_scores, label = \"Training Score\", color = \"b\")\n",
    "    plt.plot(param_range, mean_test_scores, label = \"Validation Score\", color = \"g\")\n",
    "    \n",
    "    plt.title(f\"Validation Curve For {type(models).__name__.upper()}\")\n",
    "    plt.xlabel(f\"Number Of {param_name}\")\n",
    "    plt.ylabel(f\"{scoring}\")\n",
    "    plt.legend(loc = \"best\")\n",
    "    plt.show()\n",
    "    "
   ]
  },
  {
   "cell_type": "code",
   "execution_count": 37,
   "id": "precious-great",
   "metadata": {},
   "outputs": [
    {
     "data": {
      "text/plain": [
       "{'objective': 'binary:logistic',\n",
       " 'use_label_encoder': True,\n",
       " 'base_score': 0.5,\n",
       " 'booster': 'gbtree',\n",
       " 'colsample_bylevel': 1,\n",
       " 'colsample_bynode': 1,\n",
       " 'colsample_bytree': 0.5,\n",
       " 'gamma': 0,\n",
       " 'gpu_id': -1,\n",
       " 'importance_type': 'gain',\n",
       " 'interaction_constraints': '',\n",
       " 'learning_rate': 0.1,\n",
       " 'max_delta_step': 0,\n",
       " 'max_depth': 20,\n",
       " 'min_child_weight': 1,\n",
       " 'missing': nan,\n",
       " 'monotone_constraints': '()',\n",
       " 'n_estimators': 200,\n",
       " 'n_jobs': 8,\n",
       " 'num_parallel_tree': 1,\n",
       " 'random_state': 0,\n",
       " 'reg_alpha': 0,\n",
       " 'reg_lambda': 1,\n",
       " 'scale_pos_weight': 1,\n",
       " 'subsample': 1,\n",
       " 'tree_method': 'exact',\n",
       " 'validate_parameters': 1,\n",
       " 'verbosity': None,\n",
       " 'eval_metric': 'mlogloss'}"
      ]
     },
     "execution_count": 37,
     "metadata": {},
     "output_type": "execute_result"
    }
   ],
   "source": [
    "models_best[\"XGBoost\"].get_params()"
   ]
  },
  {
   "cell_type": "code",
   "execution_count": 41,
   "id": "arranged-bread",
   "metadata": {},
   "outputs": [
    {
     "data": {
      "image/png": "[encoded data removed]",
      "text/plain": [
       "<Figure size 432x288 with 1 Axes>"
      ]
     },
     "metadata": {},
     "output_type": "display_data"
    },
    {
     "data": {
      "image/png": "[encoded data removed]",
      "text/plain": [
       "<Figure size 432x288 with 1 Axes>"
      ]
     },
     "metadata": {},
     "output_type": "display_data"
    },
    {
     "data": {
      "image/png": "[encoded data removed]",
      "text/plain": [
       "<Figure size 432x288 with 1 Axes>"
      ]
     },
     "metadata": {},
     "output_type": "display_data"
    },
    {
     "data": {
      "image/png": "[encoded data removed]",
      "text/plain": [
       "<Figure size 432x288 with 1 Axes>"
      ]
     },
     "metadata": {},
     "output_type": "display_data"
    }
   ],
   "source": [
    "for param in xgboost_params:\n",
    "    val_curve_params(models=final_model,\n",
    "                     X = X,\n",
    "                     y = y,\n",
    "                     param_name= param,\n",
    "                     param_range=xgboost_params[param],\n",
    "                     cv = 5,\n",
    "                     scoring=\"roc_auc\")"
   ]
  },
  {
   "cell_type": "code",
   "execution_count": 48,
   "id": "greek-tumor",
   "metadata": {},
   "outputs": [],
   "source": [
    "######################################################\n",
    "# Prediction for a New Observation\n",
    "######################################################"
   ]
  },
  {
   "cell_type": "code",
   "execution_count": 49,
   "id": "fancy-cable",
   "metadata": {},
   "outputs": [
    {
     "data": {
      "text/plain": [
       "Index(['Pregnancies', 'Glucose', 'BloodPressure', 'SkinThickness', 'Insulin', 'BMI', 'DiabetesPedigreeFunction', 'Age', 'NEW_INSULIN_1', 'NEW_AGE_CAT_1', 'NEW_BMI_AGE_1', 'NEW_BMI_AGE_2',\n",
       "       'NEW_BMI_AGE_3', 'NEW_BMI_AGE_4', 'NEW_BMI_AGE_5', 'NEW_BMI_AGE_6', 'NEW_AGE_GLUCOSE_1', 'NEW_AGE_GLUCOSE_2', 'NEW_AGE_GLUCOSE_3', 'NEW_BMI_1', 'NEW_BMI_2', 'NEW_BMI_3', 'NEW_GLUCOSE_1'],\n",
       "      dtype='object')"
      ]
     },
     "execution_count": 49,
     "metadata": {},
     "output_type": "execute_result"
    }
   ],
   "source": [
    "X.columns"
   ]
  },
  {
   "cell_type": "code",
   "execution_count": 67,
   "id": "polished-ceiling",
   "metadata": {},
   "outputs": [
    {
     "data": {
      "text/plain": [
       "128    1\n",
       "Name: Outcome, dtype: int64"
      ]
     },
     "execution_count": 67,
     "metadata": {},
     "output_type": "execute_result"
    }
   ],
   "source": [
    "random_user = X.sample(1)\n",
    "\n",
    "y.loc[random_user.index]"
   ]
  },
  {
   "cell_type": "code",
   "execution_count": 68,
   "id": "pending-devil",
   "metadata": {},
   "outputs": [
    {
     "data": {
      "text/plain": [
       "1"
      ]
     },
     "execution_count": 68,
     "metadata": {},
     "output_type": "execute_result"
    }
   ],
   "source": [
    "final_model.predict(random_user)[0]"
   ]
  }
 ],
 "metadata": {
  "kernelspec": {
   "display_name": "Python 3",
   "language": "python",
   "name": "python3"
  },
  "language_info": {
   "codemirror_mode": {
    "name": "ipython",
    "version": 3
   },
   "file_extension": ".py",
   "mimetype": "text/x-python",
   "name": "python",
   "nbconvert_exporter": "python",
   "pygments_lexer": "ipython3",
   "version": "3.7.7"
  }
 },
 "nbformat": 4,
 "nbformat_minor": 5
}
