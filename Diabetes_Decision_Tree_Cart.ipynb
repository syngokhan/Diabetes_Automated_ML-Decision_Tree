{
 "cells": [
  {
   "cell_type": "code",
   "execution_count": 1,
   "id": "certain-mainstream",
   "metadata": {},
   "outputs": [],
   "source": [
    "import pandas as pd\n",
    "import numpy as np\n",
    "import seaborn as sns\n",
    "import matplotlib.pyplot as plt\n",
    "%matplotlib inline"
   ]
  },
  {
   "cell_type": "code",
   "execution_count": 2,
   "id": "classified-lighter",
   "metadata": {},
   "outputs": [],
   "source": [
    "from sklearn.tree import DecisionTreeClassifier,export_graphviz,export_text\n",
    "from sklearn.metrics import r2_score,accuracy_score,roc_auc_score,f1_score,recall_score,\\\n",
    "                             classification_report,confusion_matrix,roc_curve\n",
    "\n",
    "from sklearn.model_selection import train_test_split,GridSearchCV,cross_validate,validation_curve\n",
    "\n",
    "from skompiler import skompile"
   ]
  },
  {
   "cell_type": "code",
   "execution_count": 3,
   "id": "legendary-special",
   "metadata": {},
   "outputs": [],
   "source": [
    "from warnings import filterwarnings\n",
    "filterwarnings(\"ignore\")"
   ]
  },
  {
   "cell_type": "code",
   "execution_count": 4,
   "id": "serious-maintenance",
   "metadata": {},
   "outputs": [],
   "source": [
    "import pickle"
   ]
  },
  {
   "cell_type": "code",
   "execution_count": 5,
   "id": "anticipated-window",
   "metadata": {},
   "outputs": [],
   "source": [
    "pd.set_option(\"display.max_columns\",None)\n",
    "pd.set_option(\"display.float_format\" , lambda x : \"%.4f\" % x) \n",
    "pd.set_option(\"display.width\", 200)"
   ]
  },
  {
   "cell_type": "markdown",
   "id": "collected-industry",
   "metadata": {},
   "source": [
    "**Feature engineered before diabetes.**\n",
    "\n",
    "**If you want, you can check out the diabetes feature engineering and the Model on the github repository.**\n",
    "\n",
    "**https://github.com/syngokhan/Diabetes_Model-Feature_Engineering-**"
   ]
  },
  {
   "cell_type": "code",
   "execution_count": 6,
   "id": "accessible-hardware",
   "metadata": {},
   "outputs": [],
   "source": [
    "################################################\n",
    "# Modeling Using Cart\n",
    "################################################"
   ]
  },
  {
   "cell_type": "code",
   "execution_count": 7,
   "id": "instructional-headquarters",
   "metadata": {},
   "outputs": [],
   "source": [
    "df = pickle.load(open(\"diabetes.pkl\", \"rb\"))"
   ]
  },
  {
   "cell_type": "code",
   "execution_count": 8,
   "id": "wicked-manor",
   "metadata": {},
   "outputs": [
    {
     "data": {
      "text/html": [
       "<div>\n",
       "<style scoped>\n",
       "    .dataframe tbody tr th:only-of-type {\n",
       "        vertical-align: middle;\n",
       "    }\n",
       "\n",
       "    .dataframe tbody tr th {\n",
       "        vertical-align: top;\n",
       "    }\n",
       "\n",
       "    .dataframe thead th {\n",
       "        text-align: right;\n",
       "    }\n",
       "</style>\n",
       "<table border=\"1\" class=\"dataframe\">\n",
       "  <thead>\n",
       "    <tr style=\"text-align: right;\">\n",
       "      <th></th>\n",
       "      <th>Pregnancies</th>\n",
       "      <th>Glucose</th>\n",
       "      <th>BloodPressure</th>\n",
       "      <th>SkinThickness</th>\n",
       "      <th>Insulin</th>\n",
       "      <th>BMI</th>\n",
       "      <th>DiabetesPedigreeFunction</th>\n",
       "      <th>Age</th>\n",
       "      <th>Outcome</th>\n",
       "      <th>NEW_INSULIN_1</th>\n",
       "      <th>NEW_AGE_CAT_1</th>\n",
       "      <th>NEW_BMI_AGE_1</th>\n",
       "      <th>NEW_BMI_AGE_2</th>\n",
       "      <th>NEW_BMI_AGE_3</th>\n",
       "      <th>NEW_BMI_AGE_4</th>\n",
       "      <th>NEW_BMI_AGE_5</th>\n",
       "      <th>NEW_BMI_AGE_6</th>\n",
       "      <th>NEW_AGE_GLUCOSE_1</th>\n",
       "      <th>NEW_AGE_GLUCOSE_2</th>\n",
       "      <th>NEW_AGE_GLUCOSE_3</th>\n",
       "      <th>NEW_BMI_1</th>\n",
       "      <th>NEW_BMI_2</th>\n",
       "      <th>NEW_BMI_3</th>\n",
       "      <th>NEW_GLUCOSE_1</th>\n",
       "    </tr>\n",
       "  </thead>\n",
       "  <tbody>\n",
       "    <tr>\n",
       "      <th>0</th>\n",
       "      <td>0.6471</td>\n",
       "      <td>0.8646</td>\n",
       "      <td>-0.0308</td>\n",
       "      <td>0.8143</td>\n",
       "      <td>0.6269</td>\n",
       "      <td>0.1840</td>\n",
       "      <td>0.5889</td>\n",
       "      <td>1.4457</td>\n",
       "      <td>1</td>\n",
       "      <td>0</td>\n",
       "      <td>1</td>\n",
       "      <td>0</td>\n",
       "      <td>0</td>\n",
       "      <td>1</td>\n",
       "      <td>0</td>\n",
       "      <td>0</td>\n",
       "      <td>0</td>\n",
       "      <td>0</td>\n",
       "      <td>0</td>\n",
       "      <td>1</td>\n",
       "      <td>1</td>\n",
       "      <td>0</td>\n",
       "      <td>0</td>\n",
       "      <td>1</td>\n",
       "    </tr>\n",
       "    <tr>\n",
       "      <th>1</th>\n",
       "      <td>-0.8490</td>\n",
       "      <td>-1.2047</td>\n",
       "      <td>-0.5437</td>\n",
       "      <td>0.0201</td>\n",
       "      <td>-0.5266</td>\n",
       "      <td>-0.8657</td>\n",
       "      <td>-0.3781</td>\n",
       "      <td>-0.1893</td>\n",
       "      <td>0</td>\n",
       "      <td>1</td>\n",
       "      <td>0</td>\n",
       "      <td>0</td>\n",
       "      <td>0</td>\n",
       "      <td>0</td>\n",
       "      <td>1</td>\n",
       "      <td>0</td>\n",
       "      <td>0</td>\n",
       "      <td>0</td>\n",
       "      <td>0</td>\n",
       "      <td>0</td>\n",
       "      <td>0</td>\n",
       "      <td>1</td>\n",
       "      <td>0</td>\n",
       "      <td>0</td>\n",
       "    </tr>\n",
       "    <tr>\n",
       "      <th>2</th>\n",
       "      <td>1.2456</td>\n",
       "      <td>2.0143</td>\n",
       "      <td>-0.7146</td>\n",
       "      <td>0.4172</td>\n",
       "      <td>0.6269</td>\n",
       "      <td>-1.3606</td>\n",
       "      <td>0.7466</td>\n",
       "      <td>-0.1033</td>\n",
       "      <td>1</td>\n",
       "      <td>0</td>\n",
       "      <td>0</td>\n",
       "      <td>0</td>\n",
       "      <td>0</td>\n",
       "      <td>0</td>\n",
       "      <td>0</td>\n",
       "      <td>0</td>\n",
       "      <td>0</td>\n",
       "      <td>0</td>\n",
       "      <td>1</td>\n",
       "      <td>0</td>\n",
       "      <td>0</td>\n",
       "      <td>0</td>\n",
       "      <td>0</td>\n",
       "      <td>1</td>\n",
       "    </tr>\n",
       "    <tr>\n",
       "      <th>3</th>\n",
       "      <td>-0.8490</td>\n",
       "      <td>-1.0733</td>\n",
       "      <td>-0.5437</td>\n",
       "      <td>-0.7742</td>\n",
       "      <td>-0.6729</td>\n",
       "      <td>-0.6407</td>\n",
       "      <td>-1.0228</td>\n",
       "      <td>-1.0498</td>\n",
       "      <td>0</td>\n",
       "      <td>1</td>\n",
       "      <td>0</td>\n",
       "      <td>0</td>\n",
       "      <td>0</td>\n",
       "      <td>0</td>\n",
       "      <td>1</td>\n",
       "      <td>0</td>\n",
       "      <td>0</td>\n",
       "      <td>0</td>\n",
       "      <td>0</td>\n",
       "      <td>0</td>\n",
       "      <td>0</td>\n",
       "      <td>1</td>\n",
       "      <td>0</td>\n",
       "      <td>0</td>\n",
       "    </tr>\n",
       "    <tr>\n",
       "      <th>4</th>\n",
       "      <td>-1.1482</td>\n",
       "      <td>0.5033</td>\n",
       "      <td>-2.7661</td>\n",
       "      <td>0.8143</td>\n",
       "      <td>0.6011</td>\n",
       "      <td>1.6087</td>\n",
       "      <td>2.5966</td>\n",
       "      <td>-0.0172</td>\n",
       "      <td>1</td>\n",
       "      <td>0</td>\n",
       "      <td>0</td>\n",
       "      <td>0</td>\n",
       "      <td>1</td>\n",
       "      <td>0</td>\n",
       "      <td>0</td>\n",
       "      <td>0</td>\n",
       "      <td>0</td>\n",
       "      <td>0</td>\n",
       "      <td>0</td>\n",
       "      <td>0</td>\n",
       "      <td>1</td>\n",
       "      <td>0</td>\n",
       "      <td>0</td>\n",
       "      <td>0</td>\n",
       "    </tr>\n",
       "  </tbody>\n",
       "</table>\n",
       "</div>"
      ],
      "text/plain": [
       "   Pregnancies  Glucose  BloodPressure  SkinThickness  Insulin     BMI  DiabetesPedigreeFunction     Age  Outcome  NEW_INSULIN_1  NEW_AGE_CAT_1  NEW_BMI_AGE_1  NEW_BMI_AGE_2  NEW_BMI_AGE_3  \\\n",
       "0       0.6471   0.8646        -0.0308         0.8143   0.6269  0.1840                    0.5889  1.4457        1              0              1              0              0              1   \n",
       "1      -0.8490  -1.2047        -0.5437         0.0201  -0.5266 -0.8657                   -0.3781 -0.1893        0              1              0              0              0              0   \n",
       "2       1.2456   2.0143        -0.7146         0.4172   0.6269 -1.3606                    0.7466 -0.1033        1              0              0              0              0              0   \n",
       "3      -0.8490  -1.0733        -0.5437        -0.7742  -0.6729 -0.6407                   -1.0228 -1.0498        0              1              0              0              0              0   \n",
       "4      -1.1482   0.5033        -2.7661         0.8143   0.6011  1.6087                    2.5966 -0.0172        1              0              0              0              1              0   \n",
       "\n",
       "   NEW_BMI_AGE_4  NEW_BMI_AGE_5  NEW_BMI_AGE_6  NEW_AGE_GLUCOSE_1  NEW_AGE_GLUCOSE_2  NEW_AGE_GLUCOSE_3  NEW_BMI_1  NEW_BMI_2  NEW_BMI_3  NEW_GLUCOSE_1  \n",
       "0              0              0              0                  0                  0                  1          1          0          0              1  \n",
       "1              1              0              0                  0                  0                  0          0          1          0              0  \n",
       "2              0              0              0                  0                  1                  0          0          0          0              1  \n",
       "3              1              0              0                  0                  0                  0          0          1          0              0  \n",
       "4              0              0              0                  0                  0                  0          1          0          0              0  "
      ]
     },
     "execution_count": 8,
     "metadata": {},
     "output_type": "execute_result"
    }
   ],
   "source": [
    "df.head()"
   ]
  },
  {
   "cell_type": "code",
   "execution_count": 9,
   "id": "confirmed-insulin",
   "metadata": {},
   "outputs": [],
   "source": [
    "X = df.drop(\"Outcome\", axis = 1)\n",
    "y = df[\"Outcome\"]"
   ]
  },
  {
   "cell_type": "code",
   "execution_count": 10,
   "id": "postal-retention",
   "metadata": {},
   "outputs": [],
   "source": [
    "cart_model = DecisionTreeClassifier(random_state=17).fit(X,y)\n",
    "\n",
    "y_pred = cart_model.predict(X)\n",
    "y_proba = cart_model.predict_proba(X)[:,1]"
   ]
  },
  {
   "cell_type": "code",
   "execution_count": 11,
   "id": "median-reverse",
   "metadata": {},
   "outputs": [],
   "source": [
    "def roc_auc_graph(model , X, y):\n",
    "    \n",
    "    y_proba = model.predict_proba(X)[:,1]\n",
    "    roc_score = roc_auc_score(y , y_proba)\n",
    "    size = 15\n",
    "    \n",
    "    fpr,tpr,thresholds = roc_curve(y, y_proba)\n",
    "    plt.figure(figsize = (7,5))\n",
    "    \n",
    "    plt.plot(fpr, tpr )\n",
    "    plt.plot([0,1],[0,1],\"--r\")\n",
    "    \n",
    "    plt.title(f\" ROC_AUC ( Area : {round(roc_score,4)})\" , fontsize = size)\n",
    "    plt.xlabel(\"False Positive Rate\",fontsize = size)\n",
    "    plt.ylabel(\"True Positive Rate\", fontsize = size)\n",
    "    plt.show()\n",
    "    \n",
    "def confusion_matrix_graph(model , X , y):\n",
    "    \n",
    "    size = 15\n",
    "    \n",
    "    y_pred = model.predict(X)\n",
    "    \n",
    "    cm = confusion_matrix(y,y_pred)\n",
    "    \n",
    "    fig , axes = plt.subplots(figsize = (7,5))\n",
    "    \n",
    "    axes = sns.heatmap(data = cm , annot= True , annot_kws={\"size\":25}, linecolor=\"white\",linewidths=3,\n",
    "                       fmt=\".3g\", cbar=False , cmap = \"viridis\")\n",
    "    \n",
    "    plt.xlabel(\"Predict Label\", fontsize = size)\n",
    "    plt.ylabel(\"True Label\", fontsize = size)\n",
    "    plt.title(f\"For {type(model).__name__.upper()} Confusion Matrix\", fontsize = size)"
   ]
  },
  {
   "cell_type": "code",
   "execution_count": 12,
   "id": "hollywood-terrorism",
   "metadata": {},
   "outputs": [
    {
     "data": {
      "image/png": "[encoded data removed]",
      "text/plain": [
       "<Figure size 504x360 with 1 Axes>"
      ]
     },
     "metadata": {
      "needs_background": "light"
     },
     "output_type": "display_data"
    }
   ],
   "source": [
    "#It is clear that this result is not correct and the model overfits.\n",
    "roc_auc_graph(cart_model, X ,y)"
   ]
  },
  {
   "cell_type": "code",
   "execution_count": 13,
   "id": "bronze-convert",
   "metadata": {},
   "outputs": [
    {
     "data": {
      "image/png": "[encoded data removed]",
      "text/plain": [
       "<Figure size 504x360 with 1 Axes>"
      ]
     },
     "metadata": {
      "needs_background": "light"
     },
     "output_type": "display_data"
    }
   ],
   "source": [
    "#It is clear that this result is not correct and the model overfits.\n",
    "confusion_matrix_graph(cart_model,X,y)"
   ]
  },
  {
   "cell_type": "code",
   "execution_count": 14,
   "id": "humanitarian-header",
   "metadata": {},
   "outputs": [],
   "source": [
    "#####################\n",
    "# Success Evaluation (Validation) with Holdout Method\n",
    "#####################"
   ]
  },
  {
   "cell_type": "code",
   "execution_count": 15,
   "id": "champion-meditation",
   "metadata": {},
   "outputs": [],
   "source": [
    "def holdout_method(model,X,y,train = False ,test = False):\n",
    "    \n",
    "    X_train , X_test , y_train , y_test = train_test_split(X,y,test_size = .2, random_state = 99)\n",
    "    \n",
    "    model.fit(X_train , y_train)\n",
    "    \n",
    "    if train:\n",
    "        \n",
    "        print(\" For Train Error \".upper().center(50,\"#\"))\n",
    "        \n",
    "        roc_auc_graph(model,X_train , y_train)\n",
    "    \n",
    "        confusion_matrix_graph(model, X_train, y_train)\n",
    "        \n",
    "    \n",
    "    if test:\n",
    "        \n",
    "        print(\" For Test Error \".upper().center(50,\"#\"))\n",
    "        \n",
    "        roc_auc_graph(model,X_test , y_test)\n",
    "    \n",
    "        confusion_matrix_graph(model, X_test, y_test)"
   ]
  },
  {
   "cell_type": "code",
   "execution_count": 16,
   "id": "taken-mention",
   "metadata": {},
   "outputs": [
    {
     "name": "stdout",
     "output_type": "stream",
     "text": [
      "################ FOR TRAIN ERROR #################\n"
     ]
    },
    {
     "data": {
      "image/png": "[encoded data removed]",
      "text/plain": [
       "<Figure size 504x360 with 1 Axes>"
      ]
     },
     "metadata": {
      "needs_background": "light"
     },
     "output_type": "display_data"
    },
    {
     "data": {
      "image/png": "[encoded data removed]",
      "text/plain": [
       "<Figure size 504x360 with 1 Axes>"
      ]
     },
     "metadata": {
      "needs_background": "light"
     },
     "output_type": "display_data"
    }
   ],
   "source": [
    "holdout_method(DecisionTreeClassifier(random_state=17), X, y, train = True, test = False)"
   ]
  },
  {
   "cell_type": "code",
   "execution_count": 17,
   "id": "recreational-english",
   "metadata": {},
   "outputs": [
    {
     "name": "stdout",
     "output_type": "stream",
     "text": [
      "################# FOR TEST ERROR #################\n"
     ]
    },
    {
     "data": {
      "image/png": "[encoded data removed]",
      "text/plain": [
       "<Figure size 504x360 with 1 Axes>"
      ]
     },
     "metadata": {
      "needs_background": "light"
     },
     "output_type": "display_data"
    },
    {
     "data": {
      "image/png": "[encoded data removed]",
      "text/plain": [
       "<Figure size 504x360 with 1 Axes>"
      ]
     },
     "metadata": {
      "needs_background": "light"
     },
     "output_type": "display_data"
    }
   ],
   "source": [
    "holdout_method(DecisionTreeClassifier(random_state=17), X, y, train = False, test = True)"
   ]
  },
  {
   "cell_type": "code",
   "execution_count": 18,
   "id": "organizational-blade",
   "metadata": {},
   "outputs": [],
   "source": [
    "#####################\n",
    "# Success Evaluation with CV\n",
    "#####################"
   ]
  },
  {
   "cell_type": "code",
   "execution_count": 19,
   "id": "dietary-organization",
   "metadata": {},
   "outputs": [],
   "source": [
    "def base_cv_model(model, X, y):\n",
    "    \n",
    "    #model = DecisionTreeClassifier(random_state=17).fit(X,y)\n",
    "    data = pd.DataFrame()\n",
    "    index = 0\n",
    "    \n",
    "    cv_results = cross_validate(estimator=model,\n",
    "                                X = X,\n",
    "                                y = y,\n",
    "                                cv = 10,\n",
    "                                scoring = [\"accuracy\",\"f1\",\"roc_auc\"])\n",
    "    \n",
    "    cv_accuracy = cv_results[\"test_accuracy\"].mean()\n",
    "    cv_roc_auc = cv_results[\"test_roc_auc\"].mean()\n",
    "    cv_f1 = cv_results[\"test_f1\"].mean()\n",
    "    \n",
    "    data.loc[index, \"NAME\"] = type(model).__name__.upper()\n",
    "    data.loc[index, \"ROC_AUC\"] = cv_roc_auc\n",
    "    data.loc[index, \"ACCURACY\"] = cv_accuracy\n",
    "    data.loc[index, \"F1_SCORE\"] = cv_f1\n",
    "    data.loc[index, \"FIT_TIME\"] = cv_results[\"fit_time\"].mean()\n",
    "    data.loc[index, \"SCORE_TIME\"] = cv_results[\"score_time\"].mean()\n",
    "    data = data.set_index(\"NAME\")\n",
    "    \n",
    "    return data"
   ]
  },
  {
   "cell_type": "code",
   "execution_count": 20,
   "id": "dental-logistics",
   "metadata": {},
   "outputs": [
    {
     "data": {
      "text/html": [
       "<div>\n",
       "<style scoped>\n",
       "    .dataframe tbody tr th:only-of-type {\n",
       "        vertical-align: middle;\n",
       "    }\n",
       "\n",
       "    .dataframe tbody tr th {\n",
       "        vertical-align: top;\n",
       "    }\n",
       "\n",
       "    .dataframe thead th {\n",
       "        text-align: right;\n",
       "    }\n",
       "</style>\n",
       "<table border=\"1\" class=\"dataframe\">\n",
       "  <thead>\n",
       "    <tr style=\"text-align: right;\">\n",
       "      <th></th>\n",
       "      <th>ROC_AUC</th>\n",
       "      <th>ACCURACY</th>\n",
       "      <th>F1_SCORE</th>\n",
       "      <th>FIT_TIME</th>\n",
       "      <th>SCORE_TIME</th>\n",
       "    </tr>\n",
       "    <tr>\n",
       "      <th>NAME</th>\n",
       "      <th></th>\n",
       "      <th></th>\n",
       "      <th></th>\n",
       "      <th></th>\n",
       "      <th></th>\n",
       "    </tr>\n",
       "  </thead>\n",
       "  <tbody>\n",
       "    <tr>\n",
       "      <th>DECISIONTREECLASSIFIER</th>\n",
       "      <td>0.8317</td>\n",
       "      <td>0.8450</td>\n",
       "      <td>0.7793</td>\n",
       "      <td>0.0035</td>\n",
       "      <td>0.0031</td>\n",
       "    </tr>\n",
       "  </tbody>\n",
       "</table>\n",
       "</div>"
      ],
      "text/plain": [
       "                        ROC_AUC  ACCURACY  F1_SCORE  FIT_TIME  SCORE_TIME\n",
       "NAME                                                                     \n",
       "DECISIONTREECLASSIFIER   0.8317    0.8450    0.7793    0.0035      0.0031"
      ]
     },
     "execution_count": 20,
     "metadata": {},
     "output_type": "execute_result"
    }
   ],
   "source": [
    "base_cv_model(DecisionTreeClassifier(random_state=17) , X , y)"
   ]
  },
  {
   "cell_type": "code",
   "execution_count": 21,
   "id": "wired-deadline",
   "metadata": {},
   "outputs": [],
   "source": [
    "################################################\n",
    "# 4. Hyperparameter Optimization with GridSearchCV\n",
    "################################################"
   ]
  },
  {
   "cell_type": "code",
   "execution_count": 22,
   "id": "recovered-river",
   "metadata": {},
   "outputs": [],
   "source": [
    "cart_params = {'max_depth': [2, 5, 6, 8, 10, None],\n",
    "               \"min_samples_split\": [2, 4, 5, 6, 8, 10]}"
   ]
  },
  {
   "cell_type": "code",
   "execution_count": 23,
   "id": "lesbian-civilization",
   "metadata": {},
   "outputs": [],
   "source": [
    "def hyperparameter_optimization(model , X , y , params, cv = 10) :\n",
    "    \n",
    "    best_grid = GridSearchCV(estimator= model,\n",
    "                             param_grid= params,\n",
    "                             cv = cv,\n",
    "                             n_jobs=-1,\n",
    "                             verbose=0).fit(X,y)\n",
    "    \n",
    "    best_params = best_grid.best_params_\n",
    "    \n",
    "    return best_params"
   ]
  },
  {
   "cell_type": "code",
   "execution_count": 24,
   "id": "deadly-bundle",
   "metadata": {},
   "outputs": [
    {
     "data": {
      "text/plain": [
       "{'max_depth': 5, 'min_samples_split': 2}"
      ]
     },
     "execution_count": 24,
     "metadata": {},
     "output_type": "execute_result"
    }
   ],
   "source": [
    "best_params = hyperparameter_optimization(DecisionTreeClassifier(random_state=17), X, y, cart_params, cv = 10)\n",
    "best_params"
   ]
  },
  {
   "cell_type": "code",
   "execution_count": 25,
   "id": "expressed-gather",
   "metadata": {},
   "outputs": [],
   "source": [
    "################################################\n",
    "# 5. Final Model\n",
    "################################################"
   ]
  },
  {
   "cell_type": "code",
   "execution_count": 26,
   "id": "psychological-screening",
   "metadata": {},
   "outputs": [],
   "source": [
    "def final_model(model, X, y, best_params):\n",
    "    \n",
    "    final_model_ = model.set_params(**best_params).fit(X,y)\n",
    "    \n",
    "    data = pd.DataFrame()\n",
    "    index = 0\n",
    "    \n",
    "    final_cv_results = cross_validate(estimator=final_model_,\n",
    "                                    X = X,\n",
    "                                    y = y,\n",
    "                                    cv = 10,\n",
    "                                    scoring = [\"accuracy\",\"f1\",\"roc_auc\"])\n",
    "    \n",
    "    cv_accuracy = final_cv_results[\"test_accuracy\"].mean()\n",
    "    cv_roc_auc = final_cv_results[\"test_roc_auc\"].mean()\n",
    "    cv_f1 = final_cv_results[\"test_f1\"].mean()\n",
    "    \n",
    "    data.loc[index, \"NAME\"] = type(model).__name__.upper()\n",
    "    data.loc[index, \"ROC_AUC\"] = cv_roc_auc\n",
    "    data.loc[index, \"ACCURACY\"] = cv_accuracy\n",
    "    data.loc[index, \"F1_SCORE\"] = cv_f1\n",
    "    data.loc[index, \"FIT_TIME\"] = final_cv_results[\"fit_time\"].mean()\n",
    "    data.loc[index, \"SCORE_TIME\"] = final_cv_results[\"score_time\"].mean()\n",
    "    data = data.set_index(\"NAME\")\n",
    "    \n",
    "    return final_model_,data"
   ]
  },
  {
   "cell_type": "code",
   "execution_count": 27,
   "id": "efficient-replacement",
   "metadata": {},
   "outputs": [],
   "source": [
    "final_model,data = final_model(DecisionTreeClassifier(random_state=17), X, y, best_params)"
   ]
  },
  {
   "cell_type": "code",
   "execution_count": 28,
   "id": "upset-tuition",
   "metadata": {},
   "outputs": [
    {
     "data": {
      "text/plain": [
       "{'ccp_alpha': 0.0,\n",
       " 'class_weight': None,\n",
       " 'criterion': 'gini',\n",
       " 'max_depth': 5,\n",
       " 'max_features': None,\n",
       " 'max_leaf_nodes': None,\n",
       " 'min_impurity_decrease': 0.0,\n",
       " 'min_impurity_split': None,\n",
       " 'min_samples_leaf': 1,\n",
       " 'min_samples_split': 2,\n",
       " 'min_weight_fraction_leaf': 0.0,\n",
       " 'presort': 'deprecated',\n",
       " 'random_state': 17,\n",
       " 'splitter': 'best'}"
      ]
     },
     "execution_count": 28,
     "metadata": {},
     "output_type": "execute_result"
    }
   ],
   "source": [
    "final_model.get_params()"
   ]
  },
  {
   "cell_type": "code",
   "execution_count": 29,
   "id": "balanced-alabama",
   "metadata": {},
   "outputs": [
    {
     "data": {
      "text/html": [
       "<div>\n",
       "<style scoped>\n",
       "    .dataframe tbody tr th:only-of-type {\n",
       "        vertical-align: middle;\n",
       "    }\n",
       "\n",
       "    .dataframe tbody tr th {\n",
       "        vertical-align: top;\n",
       "    }\n",
       "\n",
       "    .dataframe thead th {\n",
       "        text-align: right;\n",
       "    }\n",
       "</style>\n",
       "<table border=\"1\" class=\"dataframe\">\n",
       "  <thead>\n",
       "    <tr style=\"text-align: right;\">\n",
       "      <th></th>\n",
       "      <th>ROC_AUC</th>\n",
       "      <th>ACCURACY</th>\n",
       "      <th>F1_SCORE</th>\n",
       "      <th>FIT_TIME</th>\n",
       "      <th>SCORE_TIME</th>\n",
       "    </tr>\n",
       "    <tr>\n",
       "      <th>NAME</th>\n",
       "      <th></th>\n",
       "      <th></th>\n",
       "      <th></th>\n",
       "      <th></th>\n",
       "      <th></th>\n",
       "    </tr>\n",
       "  </thead>\n",
       "  <tbody>\n",
       "    <tr>\n",
       "      <th>DECISIONTREECLASSIFIER</th>\n",
       "      <td>0.9049</td>\n",
       "      <td>0.8738</td>\n",
       "      <td>0.8078</td>\n",
       "      <td>0.0029</td>\n",
       "      <td>0.0030</td>\n",
       "    </tr>\n",
       "  </tbody>\n",
       "</table>\n",
       "</div>"
      ],
      "text/plain": [
       "                        ROC_AUC  ACCURACY  F1_SCORE  FIT_TIME  SCORE_TIME\n",
       "NAME                                                                     \n",
       "DECISIONTREECLASSIFIER   0.9049    0.8738    0.8078    0.0029      0.0030"
      ]
     },
     "execution_count": 29,
     "metadata": {},
     "output_type": "execute_result"
    }
   ],
   "source": [
    "data"
   ]
  },
  {
   "cell_type": "code",
   "execution_count": 30,
   "id": "thick-ghana",
   "metadata": {},
   "outputs": [],
   "source": [
    "################################################\n",
    "# 6. Feature Importance\n",
    "################################################"
   ]
  },
  {
   "cell_type": "code",
   "execution_count": 31,
   "id": "weighted-garlic",
   "metadata": {},
   "outputs": [],
   "source": [
    "def plot_importance(model , features, num = 10, save = False):\n",
    "    \n",
    "    feature_imp = pd.DataFrame({\"Value\": model.feature_importances_,\n",
    "                                \"Feature\" : features.columns})\n",
    "    \n",
    "    plt.figure(figsize = (10,10))\n",
    "    sns.set(font_scale = 1)\n",
    "    sns.barplot(x = \"Value\" , y= \"Feature\" , data = feature_imp.sort_values(by = \"Value\", \\\n",
    "                                                                            ascending = False)[0:num])\n",
    "    \n",
    "    size = 15\n",
    "    plt.title(\"Features\", fontsize = size)\n",
    "    plt.tight_layout()\n",
    "    plt.show()\n",
    "    \n",
    "    if save :\n",
    "        plt.savefig(\"importances.png\")"
   ]
  },
  {
   "cell_type": "code",
   "execution_count": 32,
   "id": "rural-catch",
   "metadata": {},
   "outputs": [
    {
     "data": {
      "image/png": "[encoded data removed]",
      "text/plain": [
       "<Figure size 720x720 with 1 Axes>"
      ]
     },
     "metadata": {
      "needs_background": "light"
     },
     "output_type": "display_data"
    }
   ],
   "source": [
    "plot_importance(final_model, X)"
   ]
  },
  {
   "cell_type": "code",
   "execution_count": 33,
   "id": "detailed-retention",
   "metadata": {},
   "outputs": [],
   "source": [
    "################################################\n",
    "# 7. Analyzing Model Complexity with Learning Curves (BONUS)\n",
    "################################################"
   ]
  },
  {
   "cell_type": "code",
   "execution_count": 34,
   "id": "administrative-worth",
   "metadata": {},
   "outputs": [
    {
     "data": {
      "text/plain": [
       "{'max_depth': 5, 'min_samples_split': 2}"
      ]
     },
     "execution_count": 34,
     "metadata": {},
     "output_type": "execute_result"
    }
   ],
   "source": [
    "best_params"
   ]
  },
  {
   "cell_type": "code",
   "execution_count": 35,
   "id": "amazing-postage",
   "metadata": {},
   "outputs": [
    {
     "data": {
      "text/plain": [
       "{'max_depth': [2, 5, 6, 8, 10, None], 'min_samples_split': [2, 4, 5, 6, 8, 10]}"
      ]
     },
     "execution_count": 35,
     "metadata": {},
     "output_type": "execute_result"
    }
   ],
   "source": [
    "cart_params"
   ]
  },
  {
   "cell_type": "code",
   "execution_count": 36,
   "id": "changing-particle",
   "metadata": {},
   "outputs": [],
   "source": [
    "def val_curve_params(model, X, y , param_name, param_range ,scoring = \"roc_name\", cv = 10):\n",
    "    \n",
    "    train_score, test_score = validation_curve(estimator = model,\n",
    "                                               param_name = param_name,\n",
    "                                               param_range =  param_range,\n",
    "                                               X = X , \n",
    "                                               y = y , \n",
    "                                               cv = cv,\n",
    "                                               n_jobs=-1,\n",
    "                                               verbose=0)\n",
    "    \n",
    "    mean_train_score = np.mean(train_score, axis = 1)\n",
    "    mean_test_score = np.mean(test_score, axis = 1)\n",
    "    \n",
    "    plt.plot(param_range, mean_train_score, label = \" Training Score\", color = \"b\")\n",
    "    \n",
    "    plt.plot(param_range, mean_test_score , label = \" Validation Score\" , color = \"g\")\n",
    "    \n",
    "    plt.title(f\"Validation Curve for {type(model).__name__.upper()}\")\n",
    "    plt.xlabel(f\"Number of {param_name}\")\n",
    "    plt.ylabel(f\"{scoring}\")\n",
    "    plt.tight_layout()\n",
    "    plt.legend(loc = \"best\")\n",
    "    plt.show()"
   ]
  },
  {
   "cell_type": "code",
   "execution_count": 37,
   "id": "julian-wisdom",
   "metadata": {},
   "outputs": [
    {
     "data": {
      "image/png": "[encoded data removed]",
      "text/plain": [
       "<Figure size 432x288 with 1 Axes>"
      ]
     },
     "metadata": {},
     "output_type": "display_data"
    }
   ],
   "source": [
    "val_curve_params(DecisionTreeClassifier(random_state=17), X , y, param_name=\"max_depth\", \n",
    "                 param_range=cart_params[\"max_depth\"])"
   ]
  },
  {
   "cell_type": "code",
   "execution_count": 38,
   "id": "uniform-interstate",
   "metadata": {},
   "outputs": [
    {
     "data": {
      "image/png": "[encoded data removed]",
      "text/plain": [
       "<Figure size 432x288 with 1 Axes>"
      ]
     },
     "metadata": {},
     "output_type": "display_data"
    }
   ],
   "source": [
    "val_curve_params(DecisionTreeClassifier(random_state=17), X , y, param_name=\"min_samples_split\", \n",
    "                 param_range=cart_params[\"min_samples_split\"])"
   ]
  },
  {
   "cell_type": "code",
   "execution_count": 39,
   "id": "several-westminster",
   "metadata": {},
   "outputs": [],
   "source": [
    "################################################\n",
    "# 8. Visualizing the Decision Tree\n",
    "################################################"
   ]
  },
  {
   "cell_type": "code",
   "execution_count": 40,
   "id": "acting-hollywood",
   "metadata": {},
   "outputs": [],
   "source": [
    "import pydotplus\n",
    "\n",
    "def tree_graph_to_png(tree, feature_names, png_file_to_save):\n",
    "    \n",
    "    tree_str = export_graphviz(tree, feature_names= feature_names, filled=True, out_file = None)\n",
    "    graph = pydotplus.graph_from_dot_data(tree_str)\n",
    "    graph.write_png(png_file_to_save)"
   ]
  },
  {
   "cell_type": "code",
   "execution_count": 41,
   "id": "legal-flooring",
   "metadata": {},
   "outputs": [],
   "source": [
    "tree_graph_to_png(tree = final_model, feature_names=X.columns, png_file_to_save= \"cart.png\")"
   ]
  },
  {
   "cell_type": "code",
   "execution_count": 42,
   "id": "double-planning",
   "metadata": {},
   "outputs": [],
   "source": [
    "################################################\n",
    "# 9. Extracting Decision Rules\n",
    "################################################"
   ]
  },
  {
   "cell_type": "code",
   "execution_count": 43,
   "id": "capital-sailing",
   "metadata": {},
   "outputs": [
    {
     "name": "stdout",
     "output_type": "stream",
     "text": [
      "|--- Insulin <= -0.21\n",
      "|   |--- BMI <= 2.42\n",
      "|   |   |--- Pregnancies <= 2.82\n",
      "|   |   |   |--- Insulin <= -0.41\n",
      "|   |   |   |   |--- Insulin <= -0.58\n",
      "|   |   |   |   |   |--- class: 0\n",
      "|   |   |   |   |--- Insulin >  -0.58\n",
      "|   |   |   |   |   |--- class: 0\n",
      "|   |   |   |--- Insulin >  -0.41\n",
      "|   |   |   |   |--- SkinThickness <= 0.88\n",
      "|   |   |   |   |   |--- class: 0\n",
      "|   |   |   |   |--- SkinThickness >  0.88\n",
      "|   |   |   |   |   |--- class: 1\n",
      "|   |   |--- Pregnancies >  2.82\n",
      "|   |   |   |--- class: 1\n",
      "|   |--- BMI >  2.42\n",
      "|   |   |--- class: 1\n",
      "|--- Insulin >  -0.21\n",
      "|   |--- Age <= -0.40\n",
      "|   |   |--- SkinThickness <= 0.35\n",
      "|   |   |   |--- Glucose <= 1.51\n",
      "|   |   |   |   |--- BMI <= 0.91\n",
      "|   |   |   |   |   |--- class: 0\n",
      "|   |   |   |   |--- BMI >  0.91\n",
      "|   |   |   |   |   |--- class: 1\n",
      "|   |   |   |--- Glucose >  1.51\n",
      "|   |   |   |   |--- NEW_BMI_2 <= 0.50\n",
      "|   |   |   |   |   |--- class: 1\n",
      "|   |   |   |   |--- NEW_BMI_2 >  0.50\n",
      "|   |   |   |   |   |--- class: 0\n",
      "|   |   |--- SkinThickness >  0.35\n",
      "|   |   |   |--- SkinThickness <= 0.48\n",
      "|   |   |   |   |--- Glucose <= -0.97\n",
      "|   |   |   |   |   |--- class: 0\n",
      "|   |   |   |   |--- Glucose >  -0.97\n",
      "|   |   |   |   |   |--- class: 1\n",
      "|   |   |   |--- SkinThickness >  0.48\n",
      "|   |   |   |   |--- Glucose <= 1.52\n",
      "|   |   |   |   |   |--- class: 0\n",
      "|   |   |   |   |--- Glucose >  1.52\n",
      "|   |   |   |   |   |--- class: 1\n",
      "|   |--- Age >  -0.40\n",
      "|   |   |--- Insulin <= 0.73\n",
      "|   |   |   |--- Insulin <= 0.15\n",
      "|   |   |   |   |--- Age <= 0.54\n",
      "|   |   |   |   |   |--- class: 0\n",
      "|   |   |   |   |--- Age >  0.54\n",
      "|   |   |   |   |   |--- class: 1\n",
      "|   |   |   |--- Insulin >  0.15\n",
      "|   |   |   |   |--- SkinThickness <= -1.70\n",
      "|   |   |   |   |   |--- class: 1\n",
      "|   |   |   |   |--- SkinThickness >  -1.70\n",
      "|   |   |   |   |   |--- class: 1\n",
      "|   |   |--- Insulin >  0.73\n",
      "|   |   |   |--- Glucose <= 1.18\n",
      "|   |   |   |   |--- BMI <= 1.23\n",
      "|   |   |   |   |   |--- class: 0\n",
      "|   |   |   |   |--- BMI >  1.23\n",
      "|   |   |   |   |   |--- class: 1\n",
      "|   |   |   |--- Glucose >  1.18\n",
      "|   |   |   |   |--- DiabetesPedigreeFunction <= 2.23\n",
      "|   |   |   |   |   |--- class: 1\n",
      "|   |   |   |   |--- DiabetesPedigreeFunction >  2.23\n",
      "|   |   |   |   |   |--- class: 0\n",
      "\n"
     ]
    }
   ],
   "source": [
    "tree_rules = export_text(final_model, feature_names=list(X.columns))\n",
    "print(tree_rules)"
   ]
  },
  {
   "cell_type": "code",
   "execution_count": 44,
   "id": "peripheral-fisher",
   "metadata": {},
   "outputs": [],
   "source": [
    "################################################\n",
    "# 10. Extracting Python Codes of Decision Rules\n",
    "################################################"
   ]
  },
  {
   "cell_type": "code",
   "execution_count": 45,
   "id": "convenient-texas",
   "metadata": {},
   "outputs": [
    {
     "name": "stdout",
     "output_type": "stream",
     "text": [
      "(((((0 if x[4] <= -0.57820725440979 else 0) if x[4] <= -0.4146575778722763 else\n",
      "    0 if x[3] <= 0.8805246651172638 else 1) if x[0] <= 2.8165230751037598 else\n",
      "    1) if x[5] <= 2.4221946001052856 else 1) if x[4] <= \n",
      "    -0.20806852728128433 else (((0 if x[5] <= 0.911342203617096 else 1) if \n",
      "    x[1] <= 1.5051383972167969 else 1 if x[20] <= 0.5 else 0) if x[3] <= \n",
      "    0.35102055966854095 else (0 if x[1] <= -0.9747986495494843 else 1) if x\n",
      "    [3] <= 0.48339660465717316 else 0 if x[1] <= 1.521561861038208 else 1) if\n",
      "    x[7] <= -0.4044349193572998 else ((0 if x[7] <= 0.5421411097049713 else\n",
      "    1) if x[4] <= 0.15346231311559677 else 1 if x[3] <= -1.7008078694343567\n",
      "     else 1) if x[4] <= 0.7301900684833527 else (0 if x[5] <= \n",
      "    1.2337573766708374 else 1) if x[1] <= 1.1766698956489563 else 1 if x[6] <=\n",
      "    2.233927369117737 else 0)\n",
      "\n"
     ]
    }
   ],
   "source": [
    "print(skompile(final_model.predict).to(\"python/code\"))"
   ]
  },
  {
   "cell_type": "code",
   "execution_count": 46,
   "id": "entitled-compact",
   "metadata": {},
   "outputs": [
    {
     "name": "stdout",
     "output_type": "stream",
     "text": [
      "SELECT CASE WHEN (x5 <= -0.20806852728128433) THEN CASE WHEN (x6 <= 2.4221946001052856) THEN CASE WHEN (x1 <= 2.8165230751037598) THEN CASE WHEN (x5 <= -0.4146575778722763) THEN 0 ELSE CASE WHEN (x4 <= 0.8805246651172638) THEN 0 ELSE 1 END END ELSE 1 END ELSE 1 END ELSE CASE WHEN (x8 <= -0.4044349193572998) THEN CASE WHEN (x4 <= 0.35102055966854095) THEN CASE WHEN (x2 <= 1.5051383972167969) THEN CASE WHEN (x6 <= 0.911342203617096) THEN 0 ELSE 1 END ELSE CASE WHEN (x21 <= 0.5) THEN 1 ELSE 0 END END ELSE CASE WHEN (x4 <= 0.48339660465717316) THEN CASE WHEN (x2 <= -0.9747986495494843) THEN 0 ELSE 1 END ELSE CASE WHEN (x2 <= 1.521561861038208) THEN 0 ELSE 1 END END END ELSE CASE WHEN (x5 <= 0.7301900684833527) THEN CASE WHEN (x5 <= 0.15346231311559677) THEN CASE WHEN (x8 <= 0.5421411097049713) THEN 0 ELSE 1 END ELSE 1 END ELSE CASE WHEN (x2 <= 1.1766698956489563) THEN CASE WHEN (x6 <= 1.2337573766708374) THEN 0 ELSE 1 END ELSE CASE WHEN (x7 <= 2.233927369117737) THEN 1 ELSE 0 END END END END END AS y \n",
      "FROM data\n"
     ]
    }
   ],
   "source": [
    "print(skompile(final_model.predict).to(\"sqlalchemy/sqlite\"))"
   ]
  },
  {
   "cell_type": "code",
   "execution_count": 47,
   "id": "present-station",
   "metadata": {},
   "outputs": [
    {
     "name": "stdout",
     "output_type": "stream",
     "text": [
      "A1=IF((x5<=-0.208068527 ...541 chars skipped... 7369117737),1,0)))))\n"
     ]
    }
   ],
   "source": [
    "from warnings import filterwarnings\n",
    "filterwarnings(\"ignore\")\n",
    "\n",
    "print(skompile(final_model.predict).to(\"excel\"))"
   ]
  },
  {
   "cell_type": "code",
   "execution_count": 48,
   "id": "dynamic-polish",
   "metadata": {},
   "outputs": [],
   "source": [
    "################################################\n",
    "# 11. Prediction using Python Codes\n",
    "################################################"
   ]
  },
  {
   "cell_type": "code",
   "execution_count": 49,
   "id": "controlled-berry",
   "metadata": {},
   "outputs": [],
   "source": [
    "def predict_with_rules(x):\n",
    "    \n",
    "    return (((((0 if x[4] <= -0.57820725440979 else 0) if x[4] <= -0.4146575778722763 else\n",
    "    0 if x[3] <= 0.8805246651172638 else 1) if x[0] <= 2.8165230751037598 else\n",
    "    1) if x[5] <= 2.4221946001052856 else 1) if x[4] <= \n",
    "    -0.20806852728128433 else (((0 if x[5] <= 0.911342203617096 else 1) if \n",
    "    x[1] <= 1.5051383972167969 else 1 if x[20] <= 0.5 else 0) if x[3] <= \n",
    "    0.35102055966854095 else (0 if x[1] <= -0.9747986495494843 else 1) if x\n",
    "    [3] <= 0.48339660465717316 else 0 if x[1] <= 1.521561861038208 else 1) if\n",
    "    x[7] <= -0.4044349193572998 else ((0 if x[7] <= 0.5421411097049713 else\n",
    "    1) if x[4] <= 0.15346231311559677 else 1 if x[3] <= -1.7008078694343567\n",
    "     else 1) if x[4] <= 0.7301900684833527 else (0 if x[5] <= \n",
    "    1.2337573766708374 else 1) if x[1] <= 1.1766698956489563 else 1 if x[6] <=\n",
    "    2.233927369117737 else 0)"
   ]
  },
  {
   "cell_type": "code",
   "execution_count": 50,
   "id": "fatty-dressing",
   "metadata": {},
   "outputs": [
    {
     "data": {
      "text/plain": [
       "23"
      ]
     },
     "execution_count": 50,
     "metadata": {},
     "output_type": "execute_result"
    }
   ],
   "source": [
    "len(X.columns)"
   ]
  },
  {
   "cell_type": "code",
   "execution_count": 51,
   "id": "twelve-africa",
   "metadata": {},
   "outputs": [
    {
     "data": {
      "text/plain": [
       "0"
      ]
     },
     "execution_count": 51,
     "metadata": {},
     "output_type": "execute_result"
    }
   ],
   "source": [
    "x = np.linspace(1,100,23)\n",
    "predict_with_rules(x)"
   ]
  },
  {
   "cell_type": "code",
   "execution_count": 52,
   "id": "thousand-whale",
   "metadata": {},
   "outputs": [],
   "source": [
    "################################################\n",
    "# 12. Saving and Loading Model\n",
    "################################################"
   ]
  },
  {
   "cell_type": "code",
   "execution_count": 53,
   "id": "acquired-project",
   "metadata": {},
   "outputs": [],
   "source": [
    "import joblib"
   ]
  },
  {
   "cell_type": "code",
   "execution_count": 54,
   "id": "statistical-palestine",
   "metadata": {},
   "outputs": [
    {
     "data": {
      "text/plain": [
       "array([0])"
      ]
     },
     "execution_count": 54,
     "metadata": {},
     "output_type": "execute_result"
    }
   ],
   "source": [
    "joblib.dump(final_model, \"cart_final.pkl\")\n",
    "\n",
    "cart_model_from_disk = joblib.load(\"cart_final.pkl\")\n",
    "\n",
    "cart_model_from_disk.predict(pd.DataFrame(x).T)"
   ]
  },
  {
   "cell_type": "code",
   "execution_count": null,
   "id": "heard-safety",
   "metadata": {},
   "outputs": [],
   "source": []
  }
 ],
 "metadata": {
  "kernelspec": {
   "display_name": "Python 3",
   "language": "python",
   "name": "python3"
  },
  "language_info": {
   "codemirror_mode": {
    "name": "ipython",
    "version": 3
   },
   "file_extension": ".py",
   "mimetype": "text/x-python",
   "name": "python",
   "nbconvert_exporter": "python",
   "pygments_lexer": "ipython3",
   "version": "3.7.7"
  }
 },
 "nbformat": 4,
 "nbformat_minor": 5
}
